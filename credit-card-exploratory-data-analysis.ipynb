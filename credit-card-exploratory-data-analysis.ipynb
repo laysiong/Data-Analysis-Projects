{
 "cells": [
  {
   "cell_type": "code",
   "execution_count": 1,
   "id": "305209fe",
   "metadata": {
    "_cell_guid": "b1076dfc-b9ad-4769-8c92-a6c4dae69d19",
    "_uuid": "8f2839f25d086af736a60e9eeb907d3b93b6e0e5",
    "execution": {
     "iopub.execute_input": "2023-09-11T16:57:36.357929Z",
     "iopub.status.busy": "2023-09-11T16:57:36.357569Z",
     "iopub.status.idle": "2023-09-11T16:57:36.367241Z",
     "shell.execute_reply": "2023-09-11T16:57:36.366201Z"
    },
    "papermill": {
     "duration": 0.024716,
     "end_time": "2023-09-11T16:57:36.369666",
     "exception": false,
     "start_time": "2023-09-11T16:57:36.344950",
     "status": "completed"
    },
    "tags": []
   },
   "outputs": [],
   "source": [
    "import numpy as np # linear algebra\n",
    "import pandas as pd # data processing, CSV file I/O (e.g. pd.read_csv)\n",
    "\n",
    "# Avoid warnings\n",
    "import warnings\n",
    "warnings.filterwarnings(\"ignore\")"
   ]
  },
  {
   "cell_type": "markdown",
   "id": "d73741da",
   "metadata": {
    "papermill": {
     "duration": 0.009512,
     "end_time": "2023-09-11T16:57:36.389435",
     "exception": false,
     "start_time": "2023-09-11T16:57:36.379923",
     "status": "completed"
    },
    "tags": []
   },
   "source": [
    "# Import CSV Files\n",
    "\n",
    "<h3>Checking and Cleaning data</h3>"
   ]
  },
  {
   "cell_type": "code",
   "execution_count": 2,
   "id": "538bd064",
   "metadata": {
    "execution": {
     "iopub.execute_input": "2023-09-11T16:57:36.411386Z",
     "iopub.status.busy": "2023-09-11T16:57:36.411005Z",
     "iopub.status.idle": "2023-09-11T16:57:36.450964Z",
     "shell.execute_reply": "2023-09-11T16:57:36.449816Z"
    },
    "papermill": {
     "duration": 0.053755,
     "end_time": "2023-09-11T16:57:36.453520",
     "exception": false,
     "start_time": "2023-09-11T16:57:36.399765",
     "status": "completed"
    },
    "tags": []
   },
   "outputs": [],
   "source": [
    "#Checking the data\n",
    "Cus_df =pd.read_csv(\"/kaggle/input/credit-card-exploratory-data-analysis/Customer Acqusition.csv\")\n",
    "Repay_df=pd.read_csv(\"/kaggle/input/credit-card-exploratory-data-analysis/Repayment.csv\")\n",
    "Spend_df=pd.read_csv(\"/kaggle/input/credit-card-exploratory-data-analysis/spend.csv\")\n",
    "\n",
    "Cus_cy_df=Cus_df.copy()\n",
    "Repay_cy_df=Repay_df.copy()\n",
    "Spend_cy_df=Spend_df.copy()\n",
    "\n",
    "#Spend_df.sample(5)"
   ]
  },
  {
   "cell_type": "code",
   "execution_count": 3,
   "id": "f681582c",
   "metadata": {
    "execution": {
     "iopub.execute_input": "2023-09-11T16:57:36.476966Z",
     "iopub.status.busy": "2023-09-11T16:57:36.476610Z",
     "iopub.status.idle": "2023-09-11T16:57:36.484660Z",
     "shell.execute_reply": "2023-09-11T16:57:36.483584Z"
    },
    "papermill": {
     "duration": 0.021442,
     "end_time": "2023-09-11T16:57:36.486724",
     "exception": false,
     "start_time": "2023-09-11T16:57:36.465282",
     "status": "completed"
    },
    "tags": []
   },
   "outputs": [
    {
     "data": {
      "text/plain": [
       "'\\nNo Missing Data \\nCus_df.isnull().sum()\\nSpend_df.isnull().sum()\\nRepay_df.isnull().sum() - missing data\\n'"
      ]
     },
     "execution_count": 3,
     "metadata": {},
     "output_type": "execute_result"
    }
   ],
   "source": [
    "# Checking for missing data\n",
    "\n",
    "\"\"\"\n",
    "No Missing Data \n",
    "Cus_df.isnull().sum()\n",
    "Spend_df.isnull().sum()\n",
    "Repay_df.isnull().sum() - missing data\n",
    "\"\"\"\n",
    "\n",
    "#Cus_df.describe(include='all')\n",
    "#Spend_df.describe(include='all')\n",
    "#Repay_df.describe(include='all')\n"
   ]
  },
  {
   "cell_type": "code",
   "execution_count": 4,
   "id": "7c634f78",
   "metadata": {
    "execution": {
     "iopub.execute_input": "2023-09-11T16:57:36.508374Z",
     "iopub.status.busy": "2023-09-11T16:57:36.507997Z",
     "iopub.status.idle": "2023-09-11T16:57:36.538949Z",
     "shell.execute_reply": "2023-09-11T16:57:36.538103Z"
    },
    "papermill": {
     "duration": 0.044779,
     "end_time": "2023-09-11T16:57:36.541395",
     "exception": false,
     "start_time": "2023-09-11T16:57:36.496616",
     "status": "completed"
    },
    "tags": []
   },
   "outputs": [],
   "source": [
    "#check num col and row in Repay_df\n",
    "Repay_df.shape\n",
    "\n",
    "#Drop Unnamed:4 column - it is uncessary columns\n",
    "#Fill NAN with its index+1 in the columns SL No: - we might need it later on\n",
    "Repay_cy_df = Repay_cy_df.drop(labels='Unnamed: 4', axis=1)\n",
    "Repay_cy_df['SL No:'] = Repay_cy_df.index+1\n",
    "Repay_cy_df = Repay_cy_df.dropna()\n",
    "Repay_cy_df = Repay_cy_df.rename(columns={\"Month\":\"Repay Date\",\"Amount\":\"Repay Amt\"})\n",
    "Repay_cy_df['Repay Date']=pd.to_datetime(Repay_cy_df['Repay Date'], format='%d-%b-%y', errors='ignore')\n",
    "\n",
    "\n",
    "#Corret Spelling\n",
    "Cus_cy_df = Cus_df.rename(columns={\"Product\":\"Tier\"})\n",
    "Cus_cy_df['Tier'] = Cus_cy_df['Tier'].replace('Platimum', 'Platinum')\n",
    "\n",
    "\n",
    "Spend_cy_df['Type']= Spend_cy_df['Type'].replace('PETRO','PETROL')\n",
    "Spend_cy_df = Spend_cy_df.rename(columns={\"Month\":\"Purchase Date\",\"Amount\":\"Spend Amt\"})\n",
    "Spend_cy_df['Purchase Date']=pd.to_datetime(Spend_cy_df['Purchase Date'], format='%d-%b-%y', errors='ignore')\n",
    "\n",
    "\n",
    "#Clean_Repay_df.shape\n",
    "#Cus_df['Customer'].shape\n",
    "#Cus_cy_df"
   ]
  },
  {
   "cell_type": "code",
   "execution_count": 5,
   "id": "23ca3562",
   "metadata": {
    "execution": {
     "iopub.execute_input": "2023-09-11T16:57:36.563497Z",
     "iopub.status.busy": "2023-09-11T16:57:36.563089Z",
     "iopub.status.idle": "2023-09-11T16:57:36.569773Z",
     "shell.execute_reply": "2023-09-11T16:57:36.568941Z"
    },
    "papermill": {
     "duration": 0.020117,
     "end_time": "2023-09-11T16:57:36.571820",
     "exception": false,
     "start_time": "2023-09-11T16:57:36.551703",
     "status": "completed"
    },
    "tags": []
   },
   "outputs": [],
   "source": [
    "#Additional Categories \n",
    "\n",
    "def agegroup (age):\n",
    "#     if age < 13:\n",
    "#         return 'kid'\n",
    "    if age < 20:\n",
    "        return 'Teenager'\n",
    "    elif age >=20 and age <65:\n",
    "        return 'Adult'\n",
    "    elif age >= 65:\n",
    "        return 'OlderAdult'\n",
    "Cus_cy_df['AgeGroup'] = Cus_cy_df['Age'].apply(agegroup)\n"
   ]
  },
  {
   "cell_type": "code",
   "execution_count": 6,
   "id": "d42c1d3c",
   "metadata": {
    "execution": {
     "iopub.execute_input": "2023-09-11T16:57:36.593846Z",
     "iopub.status.busy": "2023-09-11T16:57:36.593449Z",
     "iopub.status.idle": "2023-09-11T16:57:36.613311Z",
     "shell.execute_reply": "2023-09-11T16:57:36.612212Z"
    },
    "papermill": {
     "duration": 0.033383,
     "end_time": "2023-09-11T16:57:36.615585",
     "exception": false,
     "start_time": "2023-09-11T16:57:36.582202",
     "status": "completed"
    },
    "tags": []
   },
   "outputs": [
    {
     "data": {
      "text/html": [
       "<div>\n",
       "<style scoped>\n",
       "    .dataframe tbody tr th:only-of-type {\n",
       "        vertical-align: middle;\n",
       "    }\n",
       "\n",
       "    .dataframe tbody tr th {\n",
       "        vertical-align: top;\n",
       "    }\n",
       "\n",
       "    .dataframe thead th {\n",
       "        text-align: right;\n",
       "    }\n",
       "</style>\n",
       "<table border=\"1\" class=\"dataframe\">\n",
       "  <thead>\n",
       "    <tr style=\"text-align: right;\">\n",
       "      <th></th>\n",
       "      <th>No</th>\n",
       "      <th>Customer</th>\n",
       "      <th>Age</th>\n",
       "      <th>City</th>\n",
       "      <th>Tier</th>\n",
       "      <th>Limit</th>\n",
       "      <th>Company</th>\n",
       "      <th>Segment</th>\n",
       "      <th>AgeGroup</th>\n",
       "    </tr>\n",
       "  </thead>\n",
       "  <tbody>\n",
       "    <tr>\n",
       "      <th>13</th>\n",
       "      <td>14</td>\n",
       "      <td>A14</td>\n",
       "      <td>16</td>\n",
       "      <td>BANGALORE</td>\n",
       "      <td>Gold</td>\n",
       "      <td>500000.0</td>\n",
       "      <td>C14</td>\n",
       "      <td>Salaried_Pvt</td>\n",
       "      <td>Teenager</td>\n",
       "    </tr>\n",
       "    <tr>\n",
       "      <th>32</th>\n",
       "      <td>33</td>\n",
       "      <td>A33</td>\n",
       "      <td>19</td>\n",
       "      <td>BOMBAY</td>\n",
       "      <td>Platinum</td>\n",
       "      <td>10002.0</td>\n",
       "      <td>C15</td>\n",
       "      <td>Salaried_MNC</td>\n",
       "      <td>Teenager</td>\n",
       "    </tr>\n",
       "    <tr>\n",
       "      <th>40</th>\n",
       "      <td>41</td>\n",
       "      <td>A41</td>\n",
       "      <td>13</td>\n",
       "      <td>COCHIN</td>\n",
       "      <td>Platinum</td>\n",
       "      <td>500000.0</td>\n",
       "      <td>C23</td>\n",
       "      <td>Govt</td>\n",
       "      <td>Teenager</td>\n",
       "    </tr>\n",
       "    <tr>\n",
       "      <th>62</th>\n",
       "      <td>63</td>\n",
       "      <td>A63</td>\n",
       "      <td>15</td>\n",
       "      <td>BANGALORE</td>\n",
       "      <td>Gold</td>\n",
       "      <td>500000.0</td>\n",
       "      <td>C25</td>\n",
       "      <td>Self Employed</td>\n",
       "      <td>Teenager</td>\n",
       "    </tr>\n",
       "    <tr>\n",
       "      <th>67</th>\n",
       "      <td>68</td>\n",
       "      <td>A68</td>\n",
       "      <td>12</td>\n",
       "      <td>TRIVANDRUM</td>\n",
       "      <td>Silver</td>\n",
       "      <td>100000.0</td>\n",
       "      <td>C30</td>\n",
       "      <td>Self Employed</td>\n",
       "      <td>Teenager</td>\n",
       "    </tr>\n",
       "    <tr>\n",
       "      <th>69</th>\n",
       "      <td>70</td>\n",
       "      <td>A70</td>\n",
       "      <td>16</td>\n",
       "      <td>BOMBAY</td>\n",
       "      <td>Platinum</td>\n",
       "      <td>10001.0</td>\n",
       "      <td>C32</td>\n",
       "      <td>Self Employed</td>\n",
       "      <td>Teenager</td>\n",
       "    </tr>\n",
       "    <tr>\n",
       "      <th>89</th>\n",
       "      <td>90</td>\n",
       "      <td>A90</td>\n",
       "      <td>16</td>\n",
       "      <td>COCHIN</td>\n",
       "      <td>Gold</td>\n",
       "      <td>500000.0</td>\n",
       "      <td>C13</td>\n",
       "      <td>Govt</td>\n",
       "      <td>Teenager</td>\n",
       "    </tr>\n",
       "  </tbody>\n",
       "</table>\n",
       "</div>"
      ],
      "text/plain": [
       "    No Customer  Age        City      Tier     Limit Company        Segment  \\\n",
       "13  14      A14   16   BANGALORE      Gold  500000.0     C14   Salaried_Pvt   \n",
       "32  33      A33   19      BOMBAY  Platinum   10002.0     C15   Salaried_MNC   \n",
       "40  41      A41   13      COCHIN  Platinum  500000.0     C23           Govt   \n",
       "62  63      A63   15   BANGALORE      Gold  500000.0     C25  Self Employed   \n",
       "67  68      A68   12  TRIVANDRUM    Silver  100000.0     C30  Self Employed   \n",
       "69  70      A70   16      BOMBAY  Platinum   10001.0     C32  Self Employed   \n",
       "89  90      A90   16      COCHIN      Gold  500000.0     C13           Govt   \n",
       "\n",
       "    AgeGroup  \n",
       "13  Teenager  \n",
       "32  Teenager  \n",
       "40  Teenager  \n",
       "62  Teenager  \n",
       "67  Teenager  \n",
       "69  Teenager  \n",
       "89  Teenager  "
      ]
     },
     "execution_count": 6,
     "metadata": {},
     "output_type": "execute_result"
    }
   ],
   "source": [
    "Cus_cy_df.loc[Cus_cy_df['Age'] < 20]"
   ]
  },
  {
   "cell_type": "markdown",
   "id": "97bbfcca",
   "metadata": {
    "papermill": {
     "duration": 0.009812,
     "end_time": "2023-09-11T16:57:36.635694",
     "exception": false,
     "start_time": "2023-09-11T16:57:36.625882",
     "status": "completed"
    },
    "tags": []
   },
   "source": [
    "# Thing to look into\n",
    "\n",
    "1. Who is our cilent?\n",
    "2. What is their spending habit? monthly/quarterly/yearly?\n",
    "3. Identify the most popular products/services for which the credit card is used\n",
    "3. How many spent within their credit card monthly?\n",
    "1. What product is spend on the most on each of the city?\n",
    "1. Identify factors that are most indicative of a customer being at risk of defaulting on their credit card payments.\n",
    "1. Investigate if there's a correlation between spending and repayment ability across different age groups or cities.\n",
    "1. **Credit Score Prediction:** Build a model to predict future credit scores based on spending and repayment habits.\n",
    "2. **Churn Prediction:** Use machine learning algorithms to predict which customers are most likely to churn in the future.\n",
    "1. **Credit Limit Recommendations:** Develop a model to recommend credit limit adjustments based on a customer's spending and repayment history.\n",
    "2. **Targeted Marketing:** Use customer segmentation to develop targeted marketing strategies. For example, offering premium cards to high-value segments.\n",
    "\n",
    "\n",
    "- What \n",
    "- So What \n",
    "- Now What"
   ]
  },
  {
   "cell_type": "markdown",
   "id": "d78b0e90",
   "metadata": {
    "papermill": {
     "duration": 0.009678,
     "end_time": "2023-09-11T16:57:36.655501",
     "exception": false,
     "start_time": "2023-09-11T16:57:36.645823",
     "status": "completed"
    },
    "tags": []
   },
   "source": [
    "# Visualisation of the data"
   ]
  },
  {
   "cell_type": "code",
   "execution_count": 7,
   "id": "0dd62cb7",
   "metadata": {
    "execution": {
     "iopub.execute_input": "2023-09-11T16:57:36.677926Z",
     "iopub.status.busy": "2023-09-11T16:57:36.677154Z",
     "iopub.status.idle": "2023-09-11T16:57:38.697723Z",
     "shell.execute_reply": "2023-09-11T16:57:38.696490Z"
    },
    "papermill": {
     "duration": 2.034802,
     "end_time": "2023-09-11T16:57:38.700445",
     "exception": false,
     "start_time": "2023-09-11T16:57:36.665643",
     "status": "completed"
    },
    "tags": []
   },
   "outputs": [],
   "source": [
    "#Load Visualisation Plugin\n",
    "\n",
    "import matplotlib.pyplot as plt\n",
    "import seaborn as sns\n",
    "import matplotlib.ticker as ticker\n",
    "import plotly.express as px\n",
    "# from matplotlib.colors import ListedColormap\n",
    "\n",
    "sns.set()"
   ]
  },
  {
   "cell_type": "code",
   "execution_count": 8,
   "id": "641a9b21",
   "metadata": {
    "execution": {
     "iopub.execute_input": "2023-09-11T16:57:38.724246Z",
     "iopub.status.busy": "2023-09-11T16:57:38.723189Z",
     "iopub.status.idle": "2023-09-11T16:57:38.728367Z",
     "shell.execute_reply": "2023-09-11T16:57:38.727101Z"
    },
    "papermill": {
     "duration": 0.020313,
     "end_time": "2023-09-11T16:57:38.731679",
     "exception": false,
     "start_time": "2023-09-11T16:57:38.711366",
     "status": "completed"
    },
    "tags": []
   },
   "outputs": [],
   "source": [
    "# Cus_N_Spend_df.loc[Cus_N_Spend_df['Tier']=='Silver'].count\n",
    "#Cus_cy_df.loc[Cus_cy_df['Tier']=='Silver']\n"
   ]
  },
  {
   "cell_type": "markdown",
   "id": "2266bb41",
   "metadata": {
    "papermill": {
     "duration": 0.010448,
     "end_time": "2023-09-11T16:57:38.752702",
     "exception": false,
     "start_time": "2023-09-11T16:57:38.742254",
     "status": "completed"
    },
    "tags": []
   },
   "source": [
    "<h2>Who is our cilent?</h2>"
   ]
  },
  {
   "cell_type": "code",
   "execution_count": 9,
   "id": "cd7a4433",
   "metadata": {
    "execution": {
     "iopub.execute_input": "2023-09-11T16:57:38.775418Z",
     "iopub.status.busy": "2023-09-11T16:57:38.774718Z",
     "iopub.status.idle": "2023-09-11T16:57:38.789508Z",
     "shell.execute_reply": "2023-09-11T16:57:38.788541Z"
    },
    "papermill": {
     "duration": 0.028773,
     "end_time": "2023-09-11T16:57:38.791855",
     "exception": false,
     "start_time": "2023-09-11T16:57:38.763082",
     "status": "completed"
    },
    "tags": []
   },
   "outputs": [],
   "source": [
    "Cus_N_Spend_df = pd.merge(Cus_cy_df,Spend_cy_df,on='Customer',how='inner')\n",
    "# Cus_N_Spend_df['Limit'].unique()"
   ]
  },
  {
   "cell_type": "code",
   "execution_count": 10,
   "id": "3721676e",
   "metadata": {
    "execution": {
     "iopub.execute_input": "2023-09-11T16:57:38.814432Z",
     "iopub.status.busy": "2023-09-11T16:57:38.814067Z",
     "iopub.status.idle": "2023-09-11T16:57:39.372903Z",
     "shell.execute_reply": "2023-09-11T16:57:39.371735Z"
    },
    "papermill": {
     "duration": 0.57347,
     "end_time": "2023-09-11T16:57:39.375671",
     "exception": false,
     "start_time": "2023-09-11T16:57:38.802201",
     "status": "completed"
    },
    "tags": []
   },
   "outputs": [
    {
     "data": {
      "image/png": "[encoded data removed]",
      "text/plain": [
       "<Figure size 1000x750 with 1 Axes>"
      ]
     },
     "metadata": {},
     "output_type": "display_data"
    }
   ],
   "source": [
    "# Sorting the data by 'Tier' and 'AgeGroup'\n",
    "amount_sum_by_agegroup_type = Cus_N_Spend_df.groupby(['AgeGroup', 'Tier'])['Spend Amt'].sum().reset_index()\n",
    "amount_sum_by_agegroup_type.sort_values(['Tier', 'AgeGroup'], inplace=True)\n",
    "\n",
    "\n",
    "#color_palette\n",
    "stack_color_palette=['#CB526C','#A4314A','#ECC0CA']\n",
    "\n",
    "\n",
    "# Create the pivot data again\n",
    "pivot_data = amount_sum_by_agegroup_type.pivot(index='Tier', columns='AgeGroup', values='Spend Amt')\n",
    "\n",
    "# Create the plot\n",
    "ax = pivot_data.loc[['Silver', 'Gold', 'Platinum']].plot(kind='bar',stacked=True,figsize=(10,7.5),color=stack_color_palette, width=0.85)\n",
    "\n",
    "# Set labels and title\n",
    "plt.xlabel('Tier')\n",
    "plt.ylabel('Spend Amount')\n",
    "plt.title('Composition of Spending by AgeGroup')\n",
    "\n",
    "# Set the order of x-axis ticks\n",
    "preferred_order_tier = ['Silver', 'Gold', 'Platinum']\n",
    "ax.set_xticklabels(preferred_order_tier)\n",
    "\n",
    "# Rotate x-axis labels for better visibility\n",
    "plt.xticks(rotation=0)\n",
    "\n",
    "# Format y-axis ticks with thousands separator\n",
    "from matplotlib import ticker\n",
    "formatter = ticker.StrMethodFormatter('{x:,.0f}')\n",
    "plt.gca().yaxis.set_major_formatter(formatter)\n",
    "\n",
    "# Set the order and title for legends\n",
    "handles, labels = ax.get_legend_handles_labels()\n",
    "preferred_order_agegroup = ['Teenager', 'Adult', 'OlderAdult']\n",
    "labels, handles = zip(*sorted(zip(labels, handles), key=lambda x: preferred_order_agegroup.index(x[0])))\n",
    "\n",
    "#rename legends\n",
    "labels = ['Teenager(13 to 19)', 'Adults (20 to 64)', 'OlderAdults (65 Above)']\n",
    "ax.legend(handles, labels, title='Age Group', loc='upper left', bbox_to_anchor=(1, 1))\n",
    "\n",
    "\n",
    "# Annotate the bars\n",
    "for idx, label in enumerate(preferred_order_tier):\n",
    "    total = pivot_data.loc[label].sum()  # total amount for this tier\n",
    "    y_offset = 0  # To keep track of where to put text in the y-axis\n",
    "    for col in pivot_data.columns:\n",
    "        value = pivot_data.loc[label, col]\n",
    "        if value == 0:  # Skip zero values\n",
    "            continue\n",
    "        percentage = (value / total) * 100  # Calculate the percentage\n",
    "        y_pos = y_offset + (value / 2)  # Position to place text in y-axis\n",
    "        ax.text(idx, y_pos, f\"{percentage:.1f}%\", ha='center', va='center')\n",
    "        y_offset += value # Increase the y_offset for next iteration\n",
    "\n",
    "    \n",
    "plt.tight_layout(rect=[0, 0, 1, 1])\n",
    "plt.show()\n"
   ]
  },
  {
   "cell_type": "markdown",
   "id": "903eecd1",
   "metadata": {
    "papermill": {
     "duration": 0.011221,
     "end_time": "2023-09-11T16:57:39.398328",
     "exception": false,
     "start_time": "2023-09-11T16:57:39.387107",
     "status": "completed"
    },
    "tags": []
   },
   "source": [
    "<h2>Transaction, Spend Amount, Mean, Median</h2>"
   ]
  },
  {
   "cell_type": "code",
   "execution_count": 11,
   "id": "fad5152b",
   "metadata": {
    "execution": {
     "iopub.execute_input": "2023-09-11T16:57:39.422651Z",
     "iopub.status.busy": "2023-09-11T16:57:39.421986Z",
     "iopub.status.idle": "2023-09-11T16:57:39.451573Z",
     "shell.execute_reply": "2023-09-11T16:57:39.450334Z"
    },
    "papermill": {
     "duration": 0.045365,
     "end_time": "2023-09-11T16:57:39.454951",
     "exception": false,
     "start_time": "2023-09-11T16:57:39.409586",
     "status": "completed"
    },
    "tags": []
   },
   "outputs": [
    {
     "data": {
      "text/html": [
       "<div>\n",
       "<style scoped>\n",
       "    .dataframe tbody tr th:only-of-type {\n",
       "        vertical-align: middle;\n",
       "    }\n",
       "\n",
       "    .dataframe tbody tr th {\n",
       "        vertical-align: top;\n",
       "    }\n",
       "\n",
       "    .dataframe thead th {\n",
       "        text-align: right;\n",
       "    }\n",
       "</style>\n",
       "<table border=\"1\" class=\"dataframe\">\n",
       "  <thead>\n",
       "    <tr style=\"text-align: right;\">\n",
       "      <th></th>\n",
       "      <th>Transaction</th>\n",
       "      <th>Spend Amt</th>\n",
       "      <th>Mean Amt</th>\n",
       "      <th>Median Amt</th>\n",
       "    </tr>\n",
       "  </thead>\n",
       "  <tbody>\n",
       "    <tr>\n",
       "      <th>Silver</th>\n",
       "      <td>320</td>\n",
       "      <td>77,128,966</td>\n",
       "      <td>241,028</td>\n",
       "      <td>233,436</td>\n",
       "    </tr>\n",
       "    <tr>\n",
       "      <th>Gold</th>\n",
       "      <td>610</td>\n",
       "      <td>146,200,355</td>\n",
       "      <td>239,673</td>\n",
       "      <td>239,598</td>\n",
       "    </tr>\n",
       "    <tr>\n",
       "      <th>Platinum</th>\n",
       "      <td>570</td>\n",
       "      <td>141,314,753</td>\n",
       "      <td>247,921</td>\n",
       "      <td>241,250</td>\n",
       "    </tr>\n",
       "  </tbody>\n",
       "</table>\n",
       "</div>"
      ],
      "text/plain": [
       "          Transaction    Spend Amt Mean Amt Median Amt\n",
       "Silver            320   77,128,966  241,028    233,436\n",
       "Gold              610  146,200,355  239,673    239,598\n",
       "Platinum          570  141,314,753  247,921    241,250"
      ]
     },
     "execution_count": 11,
     "metadata": {},
     "output_type": "execute_result"
    }
   ],
   "source": [
    "sorted_tiers = ['Silver', 'Gold', 'Platinum']\n",
    "\n",
    "grouped_data = Cus_N_Spend_df.groupby('Tier')['Type'].value_counts()\n",
    "grouped_sum = Cus_N_Spend_df.groupby('Tier')['Type'].count()\n",
    "grouped_Amount_sum = Cus_N_Spend_df.groupby('Tier')['Spend Amt'].sum()\n",
    "grouped_Amount_mean = Cus_N_Spend_df.groupby('Tier')['Spend Amt'].mean()\n",
    "grouped_Amount_median = Cus_N_Spend_df.groupby('Tier')['Spend Amt'].median()\n",
    "\n",
    "table = grouped_data.unstack().fillna(0)\n",
    "table['Transaction'] = grouped_sum\n",
    "table['Spend Amt'] =  grouped_Amount_sum.apply(lambda x: \"{:,.0f}\".format(x))\n",
    "table['Mean Amt']=  grouped_Amount_mean.apply(lambda x: \"{:,.0f}\".format(x))\n",
    "table['Median Amt']=  grouped_Amount_median.apply(lambda x: \"{:,.0f}\".format(x))\n",
    "\n",
    "sorted_table = table.reindex(sorted_tiers)\n",
    "sorted_table.index.name = None\n",
    "\n",
    "sorted_table.rename(columns={'Type': 'Tier'}, inplace=True)\n",
    "sorted_table.rename_axis(columns=None, inplace=True)\n",
    "sorted_table.iloc[:,-4:]\n",
    "# sorted_table.describe()\n"
   ]
  },
  {
   "cell_type": "markdown",
   "id": "d8091210",
   "metadata": {
    "papermill": {
     "duration": 0.010933,
     "end_time": "2023-09-11T16:57:39.477608",
     "exception": false,
     "start_time": "2023-09-11T16:57:39.466675",
     "status": "completed"
    },
    "tags": []
   },
   "source": [
    "<h2>What is their spending habit? monthly/quarterly/yearly?</h2>"
   ]
  },
  {
   "cell_type": "code",
   "execution_count": 12,
   "id": "7039e083",
   "metadata": {
    "execution": {
     "iopub.execute_input": "2023-09-11T16:57:39.501915Z",
     "iopub.status.busy": "2023-09-11T16:57:39.501541Z",
     "iopub.status.idle": "2023-09-11T16:57:39.525634Z",
     "shell.execute_reply": "2023-09-11T16:57:39.524420Z"
    },
    "papermill": {
     "duration": 0.039328,
     "end_time": "2023-09-11T16:57:39.528406",
     "exception": false,
     "start_time": "2023-09-11T16:57:39.489078",
     "status": "completed"
    },
    "tags": []
   },
   "outputs": [],
   "source": [
    "#split_date = Cus_N_Spend_df['Date'].str.split('-', expand=True)\n",
    "\n",
    "# df=pd.merge(Cus_N_Spend_df,Repay_cy_df,on='Customer',how='inner')\n",
    "# df_grouped = df.groupby(['Customer','Tier'])['Spend Amt'].sum().apply(lambda x: \"{:,.0f}\".format(x))\n",
    "\n",
    "df_merged = pd.merge(Cus_N_Spend_df, Repay_cy_df, on='Customer', how='inner')\n",
    "# df_grouped"
   ]
  },
  {
   "cell_type": "code",
   "execution_count": 13,
   "id": "2789aea7",
   "metadata": {
    "execution": {
     "iopub.execute_input": "2023-09-11T16:57:39.553725Z",
     "iopub.status.busy": "2023-09-11T16:57:39.553324Z",
     "iopub.status.idle": "2023-09-11T16:57:39.647741Z",
     "shell.execute_reply": "2023-09-11T16:57:39.646652Z"
    },
    "papermill": {
     "duration": 0.109408,
     "end_time": "2023-09-11T16:57:39.649984",
     "exception": false,
     "start_time": "2023-09-11T16:57:39.540576",
     "status": "completed"
    },
    "tags": []
   },
   "outputs": [
    {
     "data": {
      "text/html": [
       "<div>\n",
       "<style scoped>\n",
       "    .dataframe tbody tr th:only-of-type {\n",
       "        vertical-align: middle;\n",
       "    }\n",
       "\n",
       "    .dataframe tbody tr th {\n",
       "        vertical-align: top;\n",
       "    }\n",
       "\n",
       "    .dataframe thead th {\n",
       "        text-align: right;\n",
       "    }\n",
       "</style>\n",
       "<table border=\"1\" class=\"dataframe\">\n",
       "  <thead>\n",
       "    <tr style=\"text-align: right;\">\n",
       "      <th></th>\n",
       "      <th>Customer_</th>\n",
       "      <th>Tier_</th>\n",
       "      <th>Spend Amt_sum</th>\n",
       "      <th>Repay Amt_sum</th>\n",
       "      <th>purchase date_min</th>\n",
       "      <th>repay date_max</th>\n",
       "      <th>Limit_max</th>\n",
       "      <th>Num of Years</th>\n",
       "      <th>Outstanding_Amt</th>\n",
       "      <th>Risk_Group</th>\n",
       "    </tr>\n",
       "  </thead>\n",
       "  <tbody>\n",
       "    <tr>\n",
       "      <th>0</th>\n",
       "      <td>A1</td>\n",
       "      <td>Gold</td>\n",
       "      <td>9.256865e+07</td>\n",
       "      <td>8.556645e+07</td>\n",
       "      <td>2004-01-03</td>\n",
       "      <td>2006-11-21</td>\n",
       "      <td>500000.0</td>\n",
       "      <td>2.882957</td>\n",
       "      <td>-7002199.62</td>\n",
       "      <td>Medium-Risk</td>\n",
       "    </tr>\n",
       "    <tr>\n",
       "      <th>1</th>\n",
       "      <td>A10</td>\n",
       "      <td>Gold</td>\n",
       "      <td>6.925364e+07</td>\n",
       "      <td>6.652166e+07</td>\n",
       "      <td>2004-01-15</td>\n",
       "      <td>2006-07-11</td>\n",
       "      <td>500000.0</td>\n",
       "      <td>2.485969</td>\n",
       "      <td>-2731988.34</td>\n",
       "      <td>Medium-Risk</td>\n",
       "    </tr>\n",
       "    <tr>\n",
       "      <th>2</th>\n",
       "      <td>A100</td>\n",
       "      <td>Silver</td>\n",
       "      <td>2.247869e+05</td>\n",
       "      <td>6.955119e+04</td>\n",
       "      <td>2004-01-25</td>\n",
       "      <td>2004-01-25</td>\n",
       "      <td>100000.0</td>\n",
       "      <td>0.000000</td>\n",
       "      <td>-155235.69</td>\n",
       "      <td>Medium-Risk</td>\n",
       "    </tr>\n",
       "    <tr>\n",
       "      <th>3</th>\n",
       "      <td>A11</td>\n",
       "      <td>Gold</td>\n",
       "      <td>8.131010e+07</td>\n",
       "      <td>9.559681e+07</td>\n",
       "      <td>2004-01-12</td>\n",
       "      <td>2006-07-11</td>\n",
       "      <td>500000.0</td>\n",
       "      <td>2.494182</td>\n",
       "      <td>14286714.12</td>\n",
       "      <td>Low-Risk</td>\n",
       "    </tr>\n",
       "    <tr>\n",
       "      <th>4</th>\n",
       "      <td>A12</td>\n",
       "      <td>Gold</td>\n",
       "      <td>2.536746e+08</td>\n",
       "      <td>2.583776e+08</td>\n",
       "      <td>2004-01-03</td>\n",
       "      <td>2006-10-03</td>\n",
       "      <td>500000.0</td>\n",
       "      <td>2.748802</td>\n",
       "      <td>4702995.12</td>\n",
       "      <td>Low-Risk</td>\n",
       "    </tr>\n",
       "    <tr>\n",
       "      <th>5</th>\n",
       "      <td>A13</td>\n",
       "      <td>Gold</td>\n",
       "      <td>2.551798e+08</td>\n",
       "      <td>2.967320e+08</td>\n",
       "      <td>2004-01-03</td>\n",
       "      <td>2006-11-03</td>\n",
       "      <td>500000.0</td>\n",
       "      <td>2.833676</td>\n",
       "      <td>41552195.40</td>\n",
       "      <td>Low-Risk</td>\n",
       "    </tr>\n",
       "    <tr>\n",
       "      <th>6</th>\n",
       "      <td>A14</td>\n",
       "      <td>Gold</td>\n",
       "      <td>2.374937e+08</td>\n",
       "      <td>2.462413e+08</td>\n",
       "      <td>2004-01-15</td>\n",
       "      <td>2006-12-03</td>\n",
       "      <td>500000.0</td>\n",
       "      <td>2.882957</td>\n",
       "      <td>8747655.33</td>\n",
       "      <td>Low-Risk</td>\n",
       "    </tr>\n",
       "    <tr>\n",
       "      <th>7</th>\n",
       "      <td>A15</td>\n",
       "      <td>Gold</td>\n",
       "      <td>9.153144e+07</td>\n",
       "      <td>1.111083e+08</td>\n",
       "      <td>2004-01-12</td>\n",
       "      <td>2006-10-03</td>\n",
       "      <td>500000.0</td>\n",
       "      <td>2.724162</td>\n",
       "      <td>19576816.60</td>\n",
       "      <td>Low-Risk</td>\n",
       "    </tr>\n",
       "    <tr>\n",
       "      <th>8</th>\n",
       "      <td>A16</td>\n",
       "      <td>Gold</td>\n",
       "      <td>1.055441e+08</td>\n",
       "      <td>8.519656e+07</td>\n",
       "      <td>2004-01-03</td>\n",
       "      <td>2006-11-03</td>\n",
       "      <td>500000.0</td>\n",
       "      <td>2.833676</td>\n",
       "      <td>-20347579.20</td>\n",
       "      <td>Medium-Risk</td>\n",
       "    </tr>\n",
       "    <tr>\n",
       "      <th>9</th>\n",
       "      <td>A17</td>\n",
       "      <td>Gold</td>\n",
       "      <td>8.474283e+07</td>\n",
       "      <td>1.056875e+08</td>\n",
       "      <td>2004-01-03</td>\n",
       "      <td>2006-12-03</td>\n",
       "      <td>500000.0</td>\n",
       "      <td>2.915811</td>\n",
       "      <td>20944670.80</td>\n",
       "      <td>Low-Risk</td>\n",
       "    </tr>\n",
       "  </tbody>\n",
       "</table>\n",
       "</div>"
      ],
      "text/plain": [
       "  Customer_   Tier_  Spend Amt_sum  Repay Amt_sum purchase date_min  \\\n",
       "0        A1    Gold   9.256865e+07   8.556645e+07        2004-01-03   \n",
       "1       A10    Gold   6.925364e+07   6.652166e+07        2004-01-15   \n",
       "2      A100  Silver   2.247869e+05   6.955119e+04        2004-01-25   \n",
       "3       A11    Gold   8.131010e+07   9.559681e+07        2004-01-12   \n",
       "4       A12    Gold   2.536746e+08   2.583776e+08        2004-01-03   \n",
       "5       A13    Gold   2.551798e+08   2.967320e+08        2004-01-03   \n",
       "6       A14    Gold   2.374937e+08   2.462413e+08        2004-01-15   \n",
       "7       A15    Gold   9.153144e+07   1.111083e+08        2004-01-12   \n",
       "8       A16    Gold   1.055441e+08   8.519656e+07        2004-01-03   \n",
       "9       A17    Gold   8.474283e+07   1.056875e+08        2004-01-03   \n",
       "\n",
       "  repay date_max  Limit_max  Num of Years  Outstanding_Amt   Risk_Group  \n",
       "0     2006-11-21   500000.0      2.882957      -7002199.62  Medium-Risk  \n",
       "1     2006-07-11   500000.0      2.485969      -2731988.34  Medium-Risk  \n",
       "2     2004-01-25   100000.0      0.000000       -155235.69  Medium-Risk  \n",
       "3     2006-07-11   500000.0      2.494182      14286714.12     Low-Risk  \n",
       "4     2006-10-03   500000.0      2.748802       4702995.12     Low-Risk  \n",
       "5     2006-11-03   500000.0      2.833676      41552195.40     Low-Risk  \n",
       "6     2006-12-03   500000.0      2.882957       8747655.33     Low-Risk  \n",
       "7     2006-10-03   500000.0      2.724162      19576816.60     Low-Risk  \n",
       "8     2006-11-03   500000.0      2.833676     -20347579.20  Medium-Risk  \n",
       "9     2006-12-03   500000.0      2.915811      20944670.80     Low-Risk  "
      ]
     },
     "execution_count": 13,
     "metadata": {},
     "output_type": "execute_result"
    }
   ],
   "source": [
    "# Ensure your 'purchase date' and 'repay date' columns are in datetime format\n",
    "df_merged['purchase date'] = pd.to_datetime(df_merged['Purchase Date'])\n",
    "df_merged['repay date'] = pd.to_datetime(df_merged['Repay Date'])\n",
    "\n",
    "# Create month-year columns for purchase and repay\n",
    "df_merged['purchase_month_year'] = df_merged['Purchase Date'].dt.to_period('M')\n",
    "df_merged['repay_month_year'] = df_merged['Repay Date'].dt.to_period('M')\n",
    "\n",
    "# Define aggregation functions\n",
    "agg_funcs = {\n",
    "    'Spend Amt': ['sum'],\n",
    "    'Repay Amt': ['sum'],\n",
    "    'purchase date': ['min'],  # Latest purchase date\n",
    "    'repay date': ['max'],  # Latest repayment date\n",
    "    'Limit': 'max'\n",
    "}\n",
    "\n",
    "# Group by customer, tier, and month-year\n",
    "df_grouped = df_merged.groupby(['Customer', 'Tier']).agg(agg_funcs).reset_index()\n",
    "\n",
    "# Flatten the multi-level column index if needed\n",
    "df_grouped.columns = [ '_'.join(col).strip() for col in df_grouped.columns.values]\n",
    "\n",
    "\n",
    "#Function\n",
    "def years_to_years_months(years_decimal):\n",
    "    whole_years = int(years_decimal)\n",
    "    remaining_months = int((years_decimal - whole_years) * 12)\n",
    "    return f\"{whole_years} yrs and {remaining_months} mths\"\n",
    "\n",
    "\n",
    "def complex_risk_group (row):\n",
    "    ratio = row['Repay Amt_sum'] / row['Spend Amt_sum']\n",
    "#     age = row['Num of Years']\n",
    "#     limit_utilization = row['Spend Amt_sum'] / row['Limit_max']\n",
    "    \n",
    "#     if age < 1:\n",
    "#         return 'New Account - Review'\n",
    "#     else: \n",
    "    if ratio < 0.3:\n",
    "        return 'High-Risk'\n",
    "    elif ratio >=0.3 and ratio <1:\n",
    "        return 'Medium-Risk'\n",
    "    elif ratio >=1:\n",
    "        return 'Low-Risk'\n",
    "#     if limit_utilization > 0.8:\n",
    "#         return 'High Utilization - High Risk' \n",
    "    \n",
    "  \n",
    "\n",
    "\n",
    "# Compute outstanding amount and other metrics as needed\n",
    "df_grouped['Num of Years'] = df_grouped['purchase date_min'] - df_grouped['repay date_max']\n",
    "df_grouped['Num of Years'] = abs(df_grouped['Num of Years'].dt.days / 365.25)\n",
    "#.apply(years_to_years_months)\n",
    "\n",
    "df_grouped['Outstanding_Amt'] = df_grouped['Repay Amt_sum'] - df_grouped['Spend Amt_sum']\n",
    "df_grouped['Risk_Group'] = df_grouped['Repay Amt_sum']/df_grouped['Spend Amt_sum']\n",
    "df_grouped['Risk_Group'] = df_grouped.apply(complex_risk_group, axis=1)\n",
    "\n",
    "\n",
    "\n",
    "# df_grouped.loc[df_grouped['Customer_']==\"A1\"]\n",
    "# df_grouped.loc[df_grouped['Customer_']==\"A12\"]\n",
    "# df_grouped.loc[df_grouped['Num of Years']<=1]\n",
    "# df_grouped.loc[df_grouped['Risk_Group']==\"Medium-Risk\"]\n",
    "\n",
    "df_grouped.head(10)"
   ]
  },
  {
   "cell_type": "code",
   "execution_count": 14,
   "id": "6a85c034",
   "metadata": {
    "execution": {
     "iopub.execute_input": "2023-09-11T16:57:39.675580Z",
     "iopub.status.busy": "2023-09-11T16:57:39.675166Z",
     "iopub.status.idle": "2023-09-11T16:57:39.680568Z",
     "shell.execute_reply": "2023-09-11T16:57:39.679457Z"
    },
    "papermill": {
     "duration": 0.020754,
     "end_time": "2023-09-11T16:57:39.683005",
     "exception": false,
     "start_time": "2023-09-11T16:57:39.662251",
     "status": "completed"
    },
    "tags": []
   },
   "outputs": [],
   "source": [
    "\n",
    "# # Define aggregation functions for each column you're interested in\n",
    "# agg_funcs = {\n",
    "#     'Spend Amt': 'sum',\n",
    "#     'Repay Amt': 'sum',\n",
    "# #     'Purchase Date': 'max',\n",
    "# #     'Repay Date': 'max',\n",
    "#     'Limit': 'max',\n",
    "#     'Segment':'first',\n",
    "#     'Company': 'first',  # or 'max', 'min', 'mean', etc. depending on what you want\n",
    "#     'City': 'first',     # or 'max', 'min', 'mean', etc. depending on what you want\n",
    "#     'Age': 'mean'        # or 'max', 'min', 'mean', etc. depending on what you want\n",
    "# }\n",
    "\n",
    "# # Perform the groupby and aggregation\n",
    "# df_grouped = df_merged.groupby(['Customer', 'Tier']).agg(agg_funcs).reset_index()\n",
    "\n",
    "# # Format the Spend and Repay Amounts\n",
    "# df_grouped['Spend Amt'] = df_grouped['Spend Amt'].apply(lambda x: \"{:,.0f}\".format(x))\n",
    "# df_grouped['Repay Amt'] = df_grouped['Repay Amt'].apply(lambda x: \"{:,.0f}\".format(x))\n",
    "\n",
    "\n",
    "\n",
    "# df_grouped.loc[df_grouped['Spend Amt'] > df_grouped['Repay Amt']].head(5)\n"
   ]
  },
  {
   "cell_type": "code",
   "execution_count": 15,
   "id": "684ce5e1",
   "metadata": {
    "execution": {
     "iopub.execute_input": "2023-09-11T16:57:39.708491Z",
     "iopub.status.busy": "2023-09-11T16:57:39.708119Z",
     "iopub.status.idle": "2023-09-11T16:57:39.712210Z",
     "shell.execute_reply": "2023-09-11T16:57:39.711161Z"
    },
    "papermill": {
     "duration": 0.019252,
     "end_time": "2023-09-11T16:57:39.714310",
     "exception": false,
     "start_time": "2023-09-11T16:57:39.695058",
     "status": "completed"
    },
    "tags": []
   },
   "outputs": [],
   "source": [
    "# df.columns"
   ]
  },
  {
   "cell_type": "code",
   "execution_count": 16,
   "id": "55e6b2e4",
   "metadata": {
    "execution": {
     "iopub.execute_input": "2023-09-11T16:57:39.740170Z",
     "iopub.status.busy": "2023-09-11T16:57:39.739476Z",
     "iopub.status.idle": "2023-09-11T16:57:39.743435Z",
     "shell.execute_reply": "2023-09-11T16:57:39.742680Z"
    },
    "papermill": {
     "duration": 0.018821,
     "end_time": "2023-09-11T16:57:39.745439",
     "exception": false,
     "start_time": "2023-09-11T16:57:39.726618",
     "status": "completed"
    },
    "tags": []
   },
   "outputs": [],
   "source": [
    "# filtered_col = [\"Customer\",\"Spend Amt\",\"Day\",\"Month\",\"Year\"]\n",
    "# Spend_Repay_df = df.head(5)"
   ]
  },
  {
   "cell_type": "code",
   "execution_count": null,
   "id": "89ec63a2",
   "metadata": {
    "papermill": {
     "duration": 0.011228,
     "end_time": "2023-09-11T16:57:39.768349",
     "exception": false,
     "start_time": "2023-09-11T16:57:39.757121",
     "status": "completed"
    },
    "tags": []
   },
   "outputs": [],
   "source": []
  },
  {
   "cell_type": "markdown",
   "id": "cabab3b4",
   "metadata": {
    "execution": {
     "iopub.execute_input": "2023-09-11T06:29:49.895538Z",
     "iopub.status.busy": "2023-09-11T06:29:49.895067Z",
     "iopub.status.idle": "2023-09-11T06:29:49.982239Z",
     "shell.execute_reply": "2023-09-11T06:29:49.980535Z",
     "shell.execute_reply.started": "2023-09-11T06:29:49.895493Z"
    },
    "papermill": {
     "duration": 0.011503,
     "end_time": "2023-09-11T16:57:39.791246",
     "exception": false,
     "start_time": "2023-09-11T16:57:39.779743",
     "status": "completed"
    },
    "tags": []
   },
   "source": [
    "<h2> How many spent within their credit card monthly? </h2>"
   ]
  },
  {
   "cell_type": "code",
   "execution_count": 17,
   "id": "1f2b0198",
   "metadata": {
    "execution": {
     "iopub.execute_input": "2023-09-11T16:57:39.816236Z",
     "iopub.status.busy": "2023-09-11T16:57:39.815846Z",
     "iopub.status.idle": "2023-09-11T16:57:40.754534Z",
     "shell.execute_reply": "2023-09-11T16:57:40.753317Z"
    },
    "papermill": {
     "duration": 0.954917,
     "end_time": "2023-09-11T16:57:40.757828",
     "exception": false,
     "start_time": "2023-09-11T16:57:39.802911",
     "status": "completed"
    },
    "tags": []
   },
   "outputs": [
    {
     "data": {
      "image/png": "[encoded data removed]",
      "text/plain": [
       "<Figure size 1000x1000 with 2 Axes>"
      ]
     },
     "metadata": {},
     "output_type": "display_data"
    }
   ],
   "source": [
    "#can check if their monthly transation\n",
    "\n",
    "# Create a figure and a grid of subplots\n",
    "fig, axes = plt.subplots(nrows=2, ncols=1, figsize=(10,10))\n",
    "\n",
    "#color plattee\n",
    "color_palette=['#F0B93A','#A4C7CE','#A2708A']\n",
    "\n",
    "# Create the first scatter plot on the first subplot\n",
    "sns.scatterplot(x='Age', y='No', hue='Tier', data=Cus_N_Spend_df,s=100,alpha=0.2,palette=color_palette,ax=axes[0])\n",
    "\n",
    "sns.scatterplot(x='Limit', y='No', hue='Tier', data=Cus_N_Spend_df,s=100,alpha=0.2,palette=color_palette,ax=axes[1])\n",
    "\n",
    "# Remove the legend from the first subplot\n",
    "axes[0].get_legend().remove()\n",
    "axes[1].get_legend().remove()\n",
    "\n",
    "# Add the legend outside the subplots\n",
    "handles, labels = axes[0].get_legend_handles_labels()\n",
    "\n",
    "preferred_order = ['Silver', 'Gold', 'Platinum']\n",
    "sorted_handles, sorted_labels = zip(*sorted(zip(handles, labels), key=lambda x: preferred_order.index(x[1])))\n",
    "\n",
    "fig.legend(sorted_handles,sorted_labels, loc='upper left', bbox_to_anchor=(1, 0.985))\n",
    "\n",
    "ylabel = \"Cusomter ID\"\n",
    "axes[0].set_ylabel(ylabel = ylabel)\n",
    "axes[1].set_ylabel(ylabel = ylabel)\n",
    "axes[1].set_xticklabels(axes[1].get_xticklabels(), rotation=45)\n",
    "\n",
    "plt.tight_layout()\n",
    "plt.show()"
   ]
  },
  {
   "cell_type": "markdown",
   "id": "044cf6af",
   "metadata": {
    "papermill": {
     "duration": 0.012892,
     "end_time": "2023-09-11T16:57:40.785530",
     "exception": false,
     "start_time": "2023-09-11T16:57:40.772638",
     "status": "completed"
    },
    "tags": []
   },
   "source": [
    "<h2>Identify the most popular products/services for which the credit card is used</h2>"
   ]
  },
  {
   "cell_type": "code",
   "execution_count": 18,
   "id": "7ef919ba",
   "metadata": {
    "execution": {
     "iopub.execute_input": "2023-09-11T16:57:40.813919Z",
     "iopub.status.busy": "2023-09-11T16:57:40.813137Z",
     "iopub.status.idle": "2023-09-11T16:57:42.038233Z",
     "shell.execute_reply": "2023-09-11T16:57:42.037063Z"
    },
    "papermill": {
     "duration": 1.242102,
     "end_time": "2023-09-11T16:57:42.040835",
     "exception": false,
     "start_time": "2023-09-11T16:57:40.798733",
     "status": "completed"
    },
    "tags": []
   },
   "outputs": [
    {
     "data": {
      "image/png": "[encoded data removed]",
      "text/plain": [
       "<Figure size 1000x1000 with 3 Axes>"
      ]
     },
     "metadata": {},
     "output_type": "display_data"
    }
   ],
   "source": [
    "#What are their spending habit in differnt Teir?\n",
    "\n",
    "# Assuming 'Type' is the column containing the type of spend\n",
    "data_merged = Cus_N_Spend_df.groupby(['Tier', 'Type']).size().reset_index(name='Count')\n",
    "order = data_merged['Type'].value_counts().index\n",
    "\n",
    "# Filter data by a specific product, e.g., 'Platinum'\n",
    "filtered_data_ax1 = data_merged[data_merged['Tier'] == 'Silver']\n",
    "filtered_data_ax2 = data_merged[data_merged['Tier'] == 'Gold']\n",
    "filtered_data_ax3 = data_merged[data_merged['Tier'] == 'Platinum']\n",
    "\n",
    "\n",
    "max_count = filtered_data_ax2['Count'].max()\n",
    "\n",
    "# Set up the matplotlib figure\n",
    "f,(ax1,ax2,ax3) = plt.subplots(3,1,figsize=(10, 10), sharex=True)\n",
    "\n",
    "\n",
    "# Create the Seaborn color palette\n",
    "grad_color_s = sns.light_palette(\"#A4C7CE\", reverse=False, as_cmap=True)\n",
    "grad_color_g = sns.light_palette(\"#F0B93A\", reverse=False, as_cmap=True)\n",
    "grad_color_p = sns.light_palette(\"#A2708A\", reverse=False, as_cmap=True)\n",
    "\n",
    "\n",
    "# Normalize the 'Count' data and map to the color palette\n",
    "palette_s = [grad_color_s(count/max_count) for count in filtered_data_ax1['Count']]\n",
    "palette_g = [grad_color_g(count/max_count) for count in filtered_data_ax2['Count']]\n",
    "palette_p = [grad_color_p(count/max_count) for count in filtered_data_ax3['Count']]\n",
    "\n",
    "\n",
    "sns.barplot(data=filtered_data_ax1, x='Type', y='Count',palette=palette_s,ax=ax1)\n",
    "ax1.set_ylabel(\"Silver\")\n",
    "\n",
    "\n",
    "sns.barplot(data=filtered_data_ax2, x='Type', y='Count',palette=palette_g,ax=ax2)\n",
    "ax2.set_ylabel(\"Gold\")\n",
    "\n",
    "sns.barplot(data=filtered_data_ax3, x='Type', y='Count',palette=palette_p,ax=ax3)\n",
    "ax3.set_ylabel(\"Platinum\")\n",
    "\n",
    "\n",
    "ax1.set_title('Distribution in Spending Habit based on Customer Tier')\n",
    "ax1.set_xlabel('')\n",
    "ax2.set_xlabel('')\n",
    "ax3.set_xlabel('Product')\n",
    "\n",
    "plt.xticks(rotation=45)  # Rotate x-axis labels for better visibility\n",
    "\n",
    "# Set y-axis limits to min and max values\n",
    "ax1.set_ylim(data_merged['Count'].min(), data_merged['Count'].max()+10)\n",
    "ax2.set_ylim(data_merged['Count'].min(), data_merged['Count'].max()+10)\n",
    "ax3.set_ylim(data_merged['Count'].min(), data_merged['Count'].max()+10)\n",
    "\n",
    "\n",
    "# Annotate values on the bars\n",
    "def annotate_bars(ax):\n",
    "    for p in ax.patches:\n",
    "        ax.annotate(format(p.get_height(), '.0f'), \n",
    "                    (p.get_x() + p.get_width() / 2., p.get_height()), \n",
    "                    ha = 'center', va = 'center', \n",
    "                    xytext = (0, 9), \n",
    "                    textcoords = 'offset points')\n",
    "\n",
    "annotate_bars(ax1)\n",
    "annotate_bars(ax2)\n",
    "annotate_bars(ax3)\n",
    "\n",
    "# Finalize the plot\n",
    "plt.tight_layout(h_pad=1)\n",
    "plt.show()\n"
   ]
  },
  {
   "cell_type": "code",
   "execution_count": 19,
   "id": "d88affa9",
   "metadata": {
    "execution": {
     "iopub.execute_input": "2023-09-11T16:57:42.074442Z",
     "iopub.status.busy": "2023-09-11T16:57:42.074072Z",
     "iopub.status.idle": "2023-09-11T16:57:42.090788Z",
     "shell.execute_reply": "2023-09-11T16:57:42.089547Z"
    },
    "papermill": {
     "duration": 0.036668,
     "end_time": "2023-09-11T16:57:42.093022",
     "exception": false,
     "start_time": "2023-09-11T16:57:42.056354",
     "status": "completed"
    },
    "tags": []
   },
   "outputs": [
    {
     "data": {
      "text/html": [
       "<div>\n",
       "<style scoped>\n",
       "    .dataframe tbody tr th:only-of-type {\n",
       "        vertical-align: middle;\n",
       "    }\n",
       "\n",
       "    .dataframe tbody tr th {\n",
       "        vertical-align: top;\n",
       "    }\n",
       "\n",
       "    .dataframe thead th {\n",
       "        text-align: right;\n",
       "    }\n",
       "</style>\n",
       "<table border=\"1\" class=\"dataframe\">\n",
       "  <thead>\n",
       "    <tr style=\"text-align: right;\">\n",
       "      <th></th>\n",
       "      <th>No</th>\n",
       "      <th>Customer</th>\n",
       "      <th>Age</th>\n",
       "      <th>City</th>\n",
       "      <th>Tier</th>\n",
       "      <th>Limit</th>\n",
       "      <th>Company</th>\n",
       "      <th>Segment</th>\n",
       "      <th>AgeGroup</th>\n",
       "      <th>Sl No:</th>\n",
       "      <th>Purchase Date</th>\n",
       "      <th>Type</th>\n",
       "      <th>Spend Amt</th>\n",
       "    </tr>\n",
       "  </thead>\n",
       "  <tbody>\n",
       "    <tr>\n",
       "      <th>0</th>\n",
       "      <td>1</td>\n",
       "      <td>A1</td>\n",
       "      <td>76</td>\n",
       "      <td>BANGALORE</td>\n",
       "      <td>Gold</td>\n",
       "      <td>500000.0</td>\n",
       "      <td>C1</td>\n",
       "      <td>Self Employed</td>\n",
       "      <td>OlderAdult</td>\n",
       "      <td>1</td>\n",
       "      <td>2004-01-12</td>\n",
       "      <td>JEWELLERY</td>\n",
       "      <td>485470.80</td>\n",
       "    </tr>\n",
       "    <tr>\n",
       "      <th>1</th>\n",
       "      <td>1</td>\n",
       "      <td>A1</td>\n",
       "      <td>76</td>\n",
       "      <td>BANGALORE</td>\n",
       "      <td>Gold</td>\n",
       "      <td>500000.0</td>\n",
       "      <td>C1</td>\n",
       "      <td>Self Employed</td>\n",
       "      <td>OlderAdult</td>\n",
       "      <td>2</td>\n",
       "      <td>2004-01-03</td>\n",
       "      <td>PETROL</td>\n",
       "      <td>410556.13</td>\n",
       "    </tr>\n",
       "    <tr>\n",
       "      <th>2</th>\n",
       "      <td>1</td>\n",
       "      <td>A1</td>\n",
       "      <td>76</td>\n",
       "      <td>BANGALORE</td>\n",
       "      <td>Gold</td>\n",
       "      <td>500000.0</td>\n",
       "      <td>C1</td>\n",
       "      <td>Self Employed</td>\n",
       "      <td>OlderAdult</td>\n",
       "      <td>3</td>\n",
       "      <td>2004-01-15</td>\n",
       "      <td>CLOTHES</td>\n",
       "      <td>23740.46</td>\n",
       "    </tr>\n",
       "    <tr>\n",
       "      <th>3</th>\n",
       "      <td>1</td>\n",
       "      <td>A1</td>\n",
       "      <td>76</td>\n",
       "      <td>BANGALORE</td>\n",
       "      <td>Gold</td>\n",
       "      <td>500000.0</td>\n",
       "      <td>C1</td>\n",
       "      <td>Self Employed</td>\n",
       "      <td>OlderAdult</td>\n",
       "      <td>4</td>\n",
       "      <td>2004-01-25</td>\n",
       "      <td>FOOD</td>\n",
       "      <td>484342.47</td>\n",
       "    </tr>\n",
       "    <tr>\n",
       "      <th>4</th>\n",
       "      <td>1</td>\n",
       "      <td>A1</td>\n",
       "      <td>76</td>\n",
       "      <td>BANGALORE</td>\n",
       "      <td>Gold</td>\n",
       "      <td>500000.0</td>\n",
       "      <td>C1</td>\n",
       "      <td>Self Employed</td>\n",
       "      <td>OlderAdult</td>\n",
       "      <td>5</td>\n",
       "      <td>2005-01-17</td>\n",
       "      <td>CAMERA</td>\n",
       "      <td>369694.07</td>\n",
       "    </tr>\n",
       "  </tbody>\n",
       "</table>\n",
       "</div>"
      ],
      "text/plain": [
       "   No Customer  Age       City  Tier     Limit Company        Segment  \\\n",
       "0   1       A1   76  BANGALORE  Gold  500000.0      C1  Self Employed   \n",
       "1   1       A1   76  BANGALORE  Gold  500000.0      C1  Self Employed   \n",
       "2   1       A1   76  BANGALORE  Gold  500000.0      C1  Self Employed   \n",
       "3   1       A1   76  BANGALORE  Gold  500000.0      C1  Self Employed   \n",
       "4   1       A1   76  BANGALORE  Gold  500000.0      C1  Self Employed   \n",
       "\n",
       "     AgeGroup  Sl No: Purchase Date       Type  Spend Amt  \n",
       "0  OlderAdult       1    2004-01-12  JEWELLERY  485470.80  \n",
       "1  OlderAdult       2    2004-01-03     PETROL  410556.13  \n",
       "2  OlderAdult       3    2004-01-15    CLOTHES   23740.46  \n",
       "3  OlderAdult       4    2004-01-25       FOOD  484342.47  \n",
       "4  OlderAdult       5    2005-01-17     CAMERA  369694.07  "
      ]
     },
     "execution_count": 19,
     "metadata": {},
     "output_type": "execute_result"
    }
   ],
   "source": [
    "Cus_N_Spend_df.head()"
   ]
  },
  {
   "cell_type": "markdown",
   "id": "1a734306",
   "metadata": {
    "papermill": {
     "duration": 0.014603,
     "end_time": "2023-09-11T16:57:42.122897",
     "exception": false,
     "start_time": "2023-09-11T16:57:42.108294",
     "status": "completed"
    },
    "tags": []
   },
   "source": [
    "<h2> What product is spend on the most on each of the city? </h2>"
   ]
  },
  {
   "cell_type": "code",
   "execution_count": 20,
   "id": "848231b8",
   "metadata": {
    "execution": {
     "iopub.execute_input": "2023-09-11T16:57:42.154851Z",
     "iopub.status.busy": "2023-09-11T16:57:42.153844Z",
     "iopub.status.idle": "2023-09-11T16:57:42.158496Z",
     "shell.execute_reply": "2023-09-11T16:57:42.157534Z"
    },
    "papermill": {
     "duration": 0.022737,
     "end_time": "2023-09-11T16:57:42.160571",
     "exception": false,
     "start_time": "2023-09-11T16:57:42.137834",
     "status": "completed"
    },
    "tags": []
   },
   "outputs": [],
   "source": [
    "# Cus_N_Spend_df"
   ]
  },
  {
   "cell_type": "code",
   "execution_count": 21,
   "id": "7b62407e",
   "metadata": {
    "execution": {
     "iopub.execute_input": "2023-09-11T16:57:42.193444Z",
     "iopub.status.busy": "2023-09-11T16:57:42.192515Z",
     "iopub.status.idle": "2023-09-11T16:57:42.197884Z",
     "shell.execute_reply": "2023-09-11T16:57:42.196807Z"
    },
    "papermill": {
     "duration": 0.024207,
     "end_time": "2023-09-11T16:57:42.200370",
     "exception": false,
     "start_time": "2023-09-11T16:57:42.176163",
     "status": "completed"
    },
    "tags": []
   },
   "outputs": [],
   "source": [
    "#Tempt Commet out TreeMap\n",
    "\n",
    "# #data\n",
    "# amount_sum_by_city_type=Cus_N_Spend_df.groupby(['City','Type'])['Spend Amt'].sum().reset_index()\n",
    "# tier_counts_by_city = Cus_N_Spend_df.groupby(['City', 'Type']).size().reset_index(name='Tier_Count')\n",
    "\n",
    "# result_df = pd.merge(amount_sum_by_city_type, tier_counts_by_city, on=['City', 'Type'])\n",
    "\n",
    "# fig = px.treemap(result_df,path=['City','Type'],values='Spend Amt',custom_data='Tier_Count')\n",
    "\n",
    "\n",
    "# # Update hover template for formatting\n",
    "# fig.update_traces(\n",
    "# #     hovertemplate='<b>%{label}</b><br>Value: $%{Amount[0]:,.2f}'\n",
    "#     hovertemplate='<b>%{label}</b><br>Amount: $%{value:,.2f}<br>Transaction: %{customdata[0]}'\n",
    "# )\n",
    "\n",
    "# # Update layout for better visualization\n",
    "# fig.update_layout(\n",
    "#     margin=dict(l=20, r=20, t=30, b=20),\n",
    "#     title='Sample Treemap',\n",
    "# )\n",
    "\n",
    "# # Show the plot\n",
    "# fig.show()\n"
   ]
  },
  {
   "cell_type": "code",
   "execution_count": 22,
   "id": "0d23d32f",
   "metadata": {
    "_kg_hide-output": false,
    "execution": {
     "iopub.execute_input": "2023-09-11T16:57:42.232262Z",
     "iopub.status.busy": "2023-09-11T16:57:42.231484Z",
     "iopub.status.idle": "2023-09-11T16:57:42.236092Z",
     "shell.execute_reply": "2023-09-11T16:57:42.235284Z"
    },
    "papermill": {
     "duration": 0.022658,
     "end_time": "2023-09-11T16:57:42.238110",
     "exception": false,
     "start_time": "2023-09-11T16:57:42.215452",
     "status": "completed"
    },
    "tags": []
   },
   "outputs": [],
   "source": [
    "# Create a new DataFrame that sums up the Amount and Tier_Count for each City\n",
    "# summed_df = result_df.groupby('City').agg({\n",
    "#     'Amount': 'sum',\n",
    "#     'Tier_Count': 'sum'\n",
    "# }).reset_index()\n",
    "#summed_df "
   ]
  },
  {
   "cell_type": "code",
   "execution_count": 23,
   "id": "7b2a9d72",
   "metadata": {
    "execution": {
     "iopub.execute_input": "2023-09-11T16:57:42.269997Z",
     "iopub.status.busy": "2023-09-11T16:57:42.269650Z",
     "iopub.status.idle": "2023-09-11T16:57:42.292892Z",
     "shell.execute_reply": "2023-09-11T16:57:42.291803Z"
    },
    "papermill": {
     "duration": 0.042044,
     "end_time": "2023-09-11T16:57:42.295240",
     "exception": false,
     "start_time": "2023-09-11T16:57:42.253196",
     "status": "completed"
    },
    "tags": []
   },
   "outputs": [
    {
     "data": {
      "text/html": [
       "<div>\n",
       "<style scoped>\n",
       "    .dataframe tbody tr th:only-of-type {\n",
       "        vertical-align: middle;\n",
       "    }\n",
       "\n",
       "    .dataframe tbody tr th {\n",
       "        vertical-align: top;\n",
       "    }\n",
       "\n",
       "    .dataframe thead th {\n",
       "        text-align: right;\n",
       "    }\n",
       "</style>\n",
       "<table border=\"1\" class=\"dataframe\">\n",
       "  <thead>\n",
       "    <tr style=\"text-align: right;\">\n",
       "      <th></th>\n",
       "      <th>Tier</th>\n",
       "      <th>count</th>\n",
       "      <th>median</th>\n",
       "      <th>mean</th>\n",
       "      <th>std</th>\n",
       "      <th>sum</th>\n",
       "      <th>skew</th>\n",
       "    </tr>\n",
       "  </thead>\n",
       "  <tbody>\n",
       "    <tr>\n",
       "      <th>0</th>\n",
       "      <td>Gold</td>\n",
       "      <td>38</td>\n",
       "      <td>500000.0</td>\n",
       "      <td>500000.00</td>\n",
       "      <td>0.00</td>\n",
       "      <td>19000000.0</td>\n",
       "      <td>Symmetric</td>\n",
       "    </tr>\n",
       "    <tr>\n",
       "      <th>1</th>\n",
       "      <td>Platinum</td>\n",
       "      <td>32</td>\n",
       "      <td>10002.0</td>\n",
       "      <td>139688.47</td>\n",
       "      <td>197344.55</td>\n",
       "      <td>4470031.0</td>\n",
       "      <td>Right</td>\n",
       "    </tr>\n",
       "    <tr>\n",
       "      <th>2</th>\n",
       "      <td>Silver</td>\n",
       "      <td>30</td>\n",
       "      <td>100001.5</td>\n",
       "      <td>166667.67</td>\n",
       "      <td>151619.15</td>\n",
       "      <td>5000030.0</td>\n",
       "      <td>Right</td>\n",
       "    </tr>\n",
       "  </tbody>\n",
       "</table>\n",
       "</div>"
      ],
      "text/plain": [
       "       Tier  count    median       mean        std         sum       skew\n",
       "0      Gold     38  500000.0  500000.00       0.00  19000000.0  Symmetric\n",
       "1  Platinum     32   10002.0  139688.47  197344.55   4470031.0      Right\n",
       "2    Silver     30  100001.5  166667.67  151619.15   5000030.0      Right"
      ]
     },
     "execution_count": 23,
     "metadata": {},
     "output_type": "execute_result"
    }
   ],
   "source": [
    "#How much is their credit card limited? Avg Med?\n",
    "\n",
    "# Define is_skewed function\n",
    "def is_skewed(mean, median):\n",
    "    if mean > median:\n",
    "        return 'Right'\n",
    "    elif mean < median:\n",
    "        return 'Left'\n",
    "    else:\n",
    "        return 'Symmetric'\n",
    "\n",
    "# Group by 'Tier' and then aggregate\n",
    "summary_stats = Cus_cy_df.groupby('Tier')['Limit'].agg(['count','median','mean','std', 'sum']).round(2).reset_index() \n",
    "summary_stats['skew'] = summary_stats.apply(lambda row: is_skewed(row['mean'], row['median']), axis=1)\n",
    "#summary_stats['var'] = summary_stats['var'].apply(lambda x:'{:,.0f}'.format(x))\n",
    "\n",
    "summary_stats\n",
    "\n",
    "#how does bank deal with values that have more then 2 decimal place?"
   ]
  },
  {
   "cell_type": "code",
   "execution_count": 24,
   "id": "1a12b1e3",
   "metadata": {
    "execution": {
     "iopub.execute_input": "2023-09-11T16:57:42.327839Z",
     "iopub.status.busy": "2023-09-11T16:57:42.326968Z",
     "iopub.status.idle": "2023-09-11T16:57:42.353993Z",
     "shell.execute_reply": "2023-09-11T16:57:42.352893Z"
    },
    "papermill": {
     "duration": 0.045632,
     "end_time": "2023-09-11T16:57:42.356288",
     "exception": false,
     "start_time": "2023-09-11T16:57:42.310656",
     "status": "completed"
    },
    "tags": []
   },
   "outputs": [
    {
     "data": {
      "text/html": [
       "<div>\n",
       "<style scoped>\n",
       "    .dataframe tbody tr th:only-of-type {\n",
       "        vertical-align: middle;\n",
       "    }\n",
       "\n",
       "    .dataframe tbody tr th {\n",
       "        vertical-align: top;\n",
       "    }\n",
       "\n",
       "    .dataframe thead th {\n",
       "        text-align: right;\n",
       "    }\n",
       "</style>\n",
       "<table border=\"1\" class=\"dataframe\">\n",
       "  <thead>\n",
       "    <tr style=\"text-align: right;\">\n",
       "      <th></th>\n",
       "      <th>Tier</th>\n",
       "      <th>count</th>\n",
       "      <th>mean</th>\n",
       "      <th>std</th>\n",
       "      <th>min</th>\n",
       "      <th>25%</th>\n",
       "      <th>50%</th>\n",
       "      <th>75%</th>\n",
       "      <th>max</th>\n",
       "    </tr>\n",
       "  </thead>\n",
       "  <tbody>\n",
       "    <tr>\n",
       "      <th>0</th>\n",
       "      <td>Gold</td>\n",
       "      <td>38.0</td>\n",
       "      <td>500000.00</td>\n",
       "      <td>0.00</td>\n",
       "      <td>500000.0</td>\n",
       "      <td>500000.0</td>\n",
       "      <td>500000.0</td>\n",
       "      <td>500000.0</td>\n",
       "      <td>500000.0</td>\n",
       "    </tr>\n",
       "    <tr>\n",
       "      <th>1</th>\n",
       "      <td>Platinum</td>\n",
       "      <td>32.0</td>\n",
       "      <td>139688.47</td>\n",
       "      <td>197344.55</td>\n",
       "      <td>10000.0</td>\n",
       "      <td>10001.0</td>\n",
       "      <td>10002.0</td>\n",
       "      <td>100003.0</td>\n",
       "      <td>500000.0</td>\n",
       "    </tr>\n",
       "    <tr>\n",
       "      <th>2</th>\n",
       "      <td>Silver</td>\n",
       "      <td>30.0</td>\n",
       "      <td>166667.67</td>\n",
       "      <td>151619.15</td>\n",
       "      <td>100000.0</td>\n",
       "      <td>100000.0</td>\n",
       "      <td>100001.5</td>\n",
       "      <td>100003.0</td>\n",
       "      <td>500000.0</td>\n",
       "    </tr>\n",
       "  </tbody>\n",
       "</table>\n",
       "</div>"
      ],
      "text/plain": [
       "       Tier  count       mean        std       min       25%       50%  \\\n",
       "0      Gold   38.0  500000.00       0.00  500000.0  500000.0  500000.0   \n",
       "1  Platinum   32.0  139688.47  197344.55   10000.0   10001.0   10002.0   \n",
       "2    Silver   30.0  166667.67  151619.15  100000.0  100000.0  100001.5   \n",
       "\n",
       "        75%       max  \n",
       "0  500000.0  500000.0  \n",
       "1  100003.0  500000.0  \n",
       "2  100003.0  500000.0  "
      ]
     },
     "execution_count": 24,
     "metadata": {},
     "output_type": "execute_result"
    }
   ],
   "source": [
    "mode_values = Cus_cy_df.groupby('Tier')['Limit'].describe().round(2).reset_index()\n",
    "mode_values"
   ]
  },
  {
   "cell_type": "code",
   "execution_count": 25,
   "id": "d8463cb5",
   "metadata": {
    "execution": {
     "iopub.execute_input": "2023-09-11T16:57:42.390350Z",
     "iopub.status.busy": "2023-09-11T16:57:42.388430Z",
     "iopub.status.idle": "2023-09-11T16:57:42.393960Z",
     "shell.execute_reply": "2023-09-11T16:57:42.392915Z"
    },
    "papermill": {
     "duration": 0.024925,
     "end_time": "2023-09-11T16:57:42.396530",
     "exception": false,
     "start_time": "2023-09-11T16:57:42.371605",
     "status": "completed"
    },
    "tags": []
   },
   "outputs": [],
   "source": [
    "#Clean_Repay_df\n",
    "#Cus_df.nunique()\n",
    "#Cus_df.info()\n",
    "#Spend_df"
   ]
  },
  {
   "cell_type": "markdown",
   "id": "a68ba406",
   "metadata": {
    "papermill": {
     "duration": 0.014765,
     "end_time": "2023-09-11T16:57:42.426767",
     "exception": false,
     "start_time": "2023-09-11T16:57:42.412002",
     "status": "completed"
    },
    "tags": []
   },
   "source": [
    "# SandBox Area"
   ]
  },
  {
   "cell_type": "code",
   "execution_count": 26,
   "id": "756b9d4a",
   "metadata": {
    "_kg_hide-input": true,
    "_kg_hide-output": true,
    "execution": {
     "iopub.execute_input": "2023-09-11T16:57:42.458916Z",
     "iopub.status.busy": "2023-09-11T16:57:42.458540Z",
     "iopub.status.idle": "2023-09-11T16:57:42.462946Z",
     "shell.execute_reply": "2023-09-11T16:57:42.462115Z"
    },
    "papermill": {
     "duration": 0.023683,
     "end_time": "2023-09-11T16:57:42.465603",
     "exception": false,
     "start_time": "2023-09-11T16:57:42.441920",
     "status": "completed"
    },
    "tags": []
   },
   "outputs": [],
   "source": [
    "# #Using PLT\n",
    "# # Count the occurrences of each tier\n",
    "# tier_counts = Cus_df['Tier'].value_counts().sort_values(ascending=True)\n",
    "\n",
    "# # Extract labels and counts\n",
    "# labels = tier_counts.index\n",
    "# counts = tier_counts.values\n",
    "\n",
    "# # Create a bar chart\n",
    "# plt.figure(figsize=(8, 6))\n",
    "# plt.bar(labels, counts, color=['gold', 'silver', 'blue'])\n",
    "\n",
    "# # Set labels and title\n",
    "# plt.xlabel('Customer Tier')\n",
    "# plt.ylabel('Number of Customers')\n",
    "# plt.title('Distribution of Customer Tiers')\n",
    "\n",
    "# # Show the plot\n",
    "# plt.show()"
   ]
  },
  {
   "cell_type": "code",
   "execution_count": 27,
   "id": "128e6873",
   "metadata": {
    "execution": {
     "iopub.execute_input": "2023-09-11T16:57:42.497781Z",
     "iopub.status.busy": "2023-09-11T16:57:42.497029Z",
     "iopub.status.idle": "2023-09-11T16:57:42.500922Z",
     "shell.execute_reply": "2023-09-11T16:57:42.500157Z"
    },
    "papermill": {
     "duration": 0.022319,
     "end_time": "2023-09-11T16:57:42.503166",
     "exception": false,
     "start_time": "2023-09-11T16:57:42.480847",
     "status": "completed"
    },
    "tags": []
   },
   "outputs": [],
   "source": [
    "# Price_list = {'Cheeseburger': 8, 'Fries': 5, 'Lasagna': 12, 'Soup': 5, 'Spaghetti': 10}\n",
    "\n",
    "# print(Price_list['Spaghetti'])\n",
    "# Price_list.get('Spaghetti')\n",
    "\n",
    "\n",
    "# #reassign all the key to different meaning.\n"
   ]
  },
  {
   "cell_type": "code",
   "execution_count": 28,
   "id": "11634939",
   "metadata": {
    "execution": {
     "iopub.execute_input": "2023-09-11T16:57:42.535924Z",
     "iopub.status.busy": "2023-09-11T16:57:42.535553Z",
     "iopub.status.idle": "2023-09-11T16:57:42.539505Z",
     "shell.execute_reply": "2023-09-11T16:57:42.538426Z"
    },
    "papermill": {
     "duration": 0.022958,
     "end_time": "2023-09-11T16:57:42.541627",
     "exception": false,
     "start_time": "2023-09-11T16:57:42.518669",
     "status": "completed"
    },
    "tags": []
   },
   "outputs": [],
   "source": [
    "# nums = [1,35,12,24,31,51,70,100]\n",
    "\n",
    "\n",
    "# def count (number):\n",
    "#     number = sorted(number)\n",
    "#     x = 0\n",
    "#     while number[x]<20:\n",
    "#         x+=1\n",
    "#     return x\n",
    "    \n",
    "# count (nums)\n",
    "\n",
    "\n"
   ]
  }
 ],
 "kernelspec": {
  "display_name": "Python 3",
  "language": "python",
  "name": "python3"
 },
 "language_info": {
  "codemirror_mode": {
   "name": "ipython",
   "version": 3
  },
  "file_extension": ".py",
  "mimetype": "text/x-python",
  "name": "python",
  "nbconvert_exporter": "python",
  "pygments_lexer": "ipython3",
  "version": "3.6.4"
 },
 "metadata": {
  "kernelspec": {
   "display_name": "Python 3",
   "language": "python",
   "name": "python3"
  },
  "language_info": {
   "codemirror_mode": {
    "name": "ipython",
    "version": 3
   },
   "file_extension": ".py",
   "mimetype": "text/x-python",
   "name": "python",
   "nbconvert_exporter": "python",
   "pygments_lexer": "ipython3",
   "version": "3.10.12"
  },
  "papermill": {
   "default_parameters": {},
   "duration": 17.063377,
   "end_time": "2023-09-11T16:57:43.578852",
   "environment_variables": {},
   "exception": null,
   "input_path": "__notebook__.ipynb",
   "output_path": "__notebook__.ipynb",
   "parameters": {},
   "start_time": "2023-09-11T16:57:26.515475",
   "version": "2.4.0"
  }
 },
 "nbformat": 4,
 "nbformat_minor": 5
}
